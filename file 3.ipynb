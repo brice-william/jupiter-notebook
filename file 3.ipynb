{
 "cells": [
  {
   "cell_type": "code",
   "execution_count": 7,
   "id": "ffc57673-b9b0-4c2b-bc3c-00c2b793d6fb",
   "metadata": {},
   "outputs": [
    {
     "data": {
      "text/plain": [
       "'Brice Fokou\\nFiles 3\\nJupyter Notebook\\n\\nLearn the Basics'"
      ]
     },
     "execution_count": 7,
     "metadata": {},
     "output_type": "execute_result"
    }
   ],
   "source": [
    "'''Brice Fokou\n",
    "Files 3\n",
    "Jupyter Notebook\n",
    "\n",
    "Learn the Basics'''"
   ]
  },
  {
   "cell_type": "code",
   "execution_count": 6,
   "id": "9becdcc0-7ec9-44b6-80cc-8417859574a7",
   "metadata": {},
   "outputs": [
    {
     "name": "stdout",
     "output_type": "stream",
     "text": [
      "13. Numpy Arrays\n",
      "\n"
     ]
    },
    {
     "ename": "ModuleNotFoundError",
     "evalue": "No module named 'numpy'",
     "output_type": "error",
     "traceback": [
      "\u001b[0;31m---------------------------------------------------------------------------\u001b[0m",
      "\u001b[0;31mModuleNotFoundError\u001b[0m                       Traceback (most recent call last)",
      "Cell \u001b[0;32mIn[6], line 13\u001b[0m\n\u001b[1;32m      9\u001b[0m \u001b[38;5;28mprint\u001b[39m()\n\u001b[1;32m     11\u001b[0m weight_kg \u001b[38;5;241m=\u001b[39m [\u001b[38;5;241m81.65\u001b[39m, \u001b[38;5;241m97.52\u001b[39m, \u001b[38;5;241m95.25\u001b[39m, \u001b[38;5;241m92.98\u001b[39m, \u001b[38;5;241m86.18\u001b[39m, \u001b[38;5;241m88.45\u001b[39m]\n\u001b[0;32m---> 13\u001b[0m \u001b[38;5;28;01mimport\u001b[39;00m \u001b[38;5;21;01mnumpy\u001b[39;00m \u001b[38;5;28;01mas\u001b[39;00m \u001b[38;5;21;01mnp\u001b[39;00m\n\u001b[1;32m     15\u001b[0m \u001b[38;5;66;03m# Create a numpy array np_weight_kg from weight_kg\u001b[39;00m\n\u001b[1;32m     16\u001b[0m np_weight_kg \u001b[38;5;241m=\u001b[39m np\u001b[38;5;241m.\u001b[39marray(weight_kg)\n",
      "\u001b[0;31mModuleNotFoundError\u001b[0m: No module named 'numpy'"
     ]
    }
   ],
   "source": [
    "print(\"13. Numpy Arrays\")\n",
    "print()\n",
    "\n",
    "weight_kg = [81.65, 97.52, 95.25, 92.98, 86.18, 88.45]\n",
    "\n",
    "import numpy as np\n",
    "\n",
    "# Create a numpy array np_weight_kg from weight_kg\n",
    "np_weight_kg = np.array(weight_kg)\n",
    "\n",
    "# Create np_weight_lbs from np_weight_kg\n",
    "np_weight_lbs = np_weight_kg * 2.2\n",
    "\n",
    "# Print out np_weight_lbs\n",
    "print(np_weight_lbs)"
   ]
  },
  {
   "cell_type": "code",
   "execution_count": null,
   "id": "86ea6c99-d87d-400c-a43a-46eb3ae76754",
   "metadata": {},
   "outputs": [],
   "source": [
    "print(\"14. Pandas Basics\")\n",
    "print()\n",
    "\n",
    "# Import cars data\n",
    "import pandas as pd\n",
    "cars = pd.read_csv('cars.csv', index_col = 0)\n",
    "\n",
    "# Print out observation for Japan\n",
    "print(cars.iloc[2])\n",
    "\n",
    "# Print out observations for Australia and Egypt\n",
    "print(cars.loc[['AUS', 'EG']])"
   ]
  }
 ],
 "metadata": {
  "kernelspec": {
   "display_name": "Python 3 (ipykernel)",
   "language": "python",
   "name": "python3"
  },
  "language_info": {
   "codemirror_mode": {
    "name": "ipython",
    "version": 3
   },
   "file_extension": ".py",
   "mimetype": "text/x-python",
   "name": "python",
   "nbconvert_exporter": "python",
   "pygments_lexer": "ipython3",
   "version": "3.12.7"
  }
 },
 "nbformat": 4,
 "nbformat_minor": 5
}
